{
 "cells": [
  {
   "cell_type": "code",
   "execution_count": 1,
   "metadata": {},
   "outputs": [],
   "source": [
    "from play import Paper, Scissors, Rock \n",
    "from game import *"
   ]
  },
  {
   "cell_type": "markdown",
   "metadata": {},
   "source": [
    "# Piedra Papel Tijera\n",
    "\n",
    "Esquema del juego:\n",
    "\n",
    "1. Se le pide al usuario que elija de entre unas opciones (piedra, papel, tijera)\n",
    "1. Creamos una jugada a partir de lo que haya elegido el usuario\n",
    "1. Creamos otra jugada al azar para competir con la del usuario\n",
    "1. las comparamos y determinamos quién ha ganado\n",
    "1. si el usuario así lo desea, jugamos otra partida\n",
    "\n",
    "## Claves \n",
    "\n",
    "El juego es un bucle, del que no se sale hasta que el usuario así lo pide.\n",
    "\n",
    "Hay que modelar las jugadas y su comparación. Usaremos clases para ello.\n",
    "\n",
    "## Comparación\n",
    "\n",
    "* Piedra aplasta a Tijeras\n",
    "* Papel envuelve a Piedra\n",
    "* Tijeras corta a Papel"
   ]
  },
  {
   "cell_type": "markdown",
   "metadata": {},
   "source": [
    "## La funcion get_user_play"
   ]
  },
  {
   "cell_type": "code",
   "execution_count": null,
   "metadata": {},
   "outputs": [],
   "source": [
    "def get_user_response():\n",
    "    \"\"\"\n",
    "    Presenta un menu de  opciones y pide que seleccione\n",
    "    una. Devuelve una cadena que indica lo que ha elegido.\n",
    "    \"\"\"\n",
    "    response = ''\n",
    "    while True:\n",
    "        print(\"Chose your play:\")\n",
    "        print(\"1. Rock 💎\")\n",
    "        print(\"2. Paper 🧻\")\n",
    "        print(\"3. Scissors ✂\")\n",
    "\n",
    "        raw = input(\"Enter 1, 2 or 3\")\n",
    "        raw = raw.strip()\n",
    "        if raw == \"1\":\n",
    "            response = 1\n",
    "            break\n",
    "        elif raw == \"2\":\n",
    "            response = 2\n",
    "            break\n",
    "        elif raw == \"3\":\n",
    "            response = 3\n",
    "            break\n",
    "        else:\n",
    "            continue \n",
    "\n",
    "    return response\n",
    "\n",
    "\n",
    "\n"
   ]
  },
  {
   "cell_type": "markdown",
   "metadata": {},
   "source": [
    "FUNCIÓN another_match() de Ana Gallegos. \n",
    "\n",
    "Una vez definida habría que implementarla en el run_game()\n",
    "haciendo una especie de bucle while \n",
    " while another_match() == True:\n",
    "        run_game()\n",
    "        break"
   ]
  },
  {
   "cell_type": "code",
   "execution_count": null,
   "metadata": {},
   "outputs": [],
   "source": [
    "coward = [\"That's allright, return when you grow up!\", \"You're not a soldier, you're a coward\", \"Scared to lose again?\"]\n",
    "\n",
    "def another_match():\n",
    "    another = input(\"Ahother match? Y/N \").upper()\n",
    "    if another == \"N\":\n",
    "        print(choice(coward))\n",
    "        print(\"Bye!\")\n",
    "        return False\n",
    "    elif another == \"Y\":\n",
    "        return True\n",
    "    else:\n",
    "        print(\"I'll take that as a yes\")\n",
    "        return True\n",
    "\n",
    "if __name__ == \"__main__\":\n",
    "    while True:\n",
    "        run_game()\n",
    "        if another_match() == False:\n",
    "            break"
   ]
  },
  {
   "cell_type": "markdown",
   "metadata": {},
   "source": [
    "## Mejoras\n",
    "\n",
    "1. hacer que get_user_response NO devuelva una cadena, sino una enum\n",
    "2. compare no es pythonisa, python ya sabe comparar objetos para ver si uno es mayor que otro it, gt ,eq. Reimplementar con dunders y simplificar get_winner\n",
    "3. la implementacion de compare NO  mola. Nunca uses el tipo de un objeto, algo estas haciendo mal. compareToPaper compareToscissors compareToRock\n",
    "4. Amplíalo a Rock, paper, scissors, lizzard, spock..."
   ]
  }
 ],
 "metadata": {
  "kernelspec": {
   "display_name": "Python 3.10.7 64-bit",
   "language": "python",
   "name": "python3"
  },
  "language_info": {
   "codemirror_mode": {
    "name": "ipython",
    "version": 3
   },
   "file_extension": ".py",
   "mimetype": "text/x-python",
   "name": "python",
   "nbconvert_exporter": "python",
   "pygments_lexer": "ipython3",
   "version": "3.10.7"
  },
  "orig_nbformat": 4,
  "vscode": {
   "interpreter": {
    "hash": "75f62d5f5272cce07cd9962a2608aa7120aba2cb9278f3092d009fd4edf2dede"
   }
  }
 },
 "nbformat": 4,
 "nbformat_minor": 2
}
